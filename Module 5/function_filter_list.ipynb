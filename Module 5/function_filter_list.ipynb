{
 "cells": [
  {
   "cell_type": "markdown",
   "id": "cb41d977-39ec-462b-b7b3-189cdbd2d2e3",
   "metadata": {},
   "source": [
    "# Question 3\n",
    "Write a python program that, given an input list, will filter the input above a user defined threshold. This is to be done with a standard function.\n",
    "\n",
    "That is, given a list [1,2,3,4,5,6,7,8,9], and an argument (6), it should return [1,2,3,4,5,6]"
   ]
  },
  {
   "cell_type": "code",
   "execution_count": 2,
   "id": "c9fb27a9-bf83-46df-813a-524e5f9b01ec",
   "metadata": {},
   "outputs": [
    {
     "name": "stdout",
     "output_type": "stream",
     "text": [
      "[1, 2, 3, 4, 5, 6]\n"
     ]
    }
   ],
   "source": [
    "def filter_by(input, threshold):\n",
    "    return [x for x in input if x <= threshold]\n",
    "\n",
    "input_list = [1,2,3,4,5,6,7,8,9]\n",
    "threshold = 6\n",
    "print(filter_by(input_list, threshold))"
   ]
  },
  {
   "cell_type": "code",
   "execution_count": 3,
   "id": "3d582d4b-2030-455d-9188-4a6ab3b2498c",
   "metadata": {},
   "outputs": [
    {
     "name": "stdout",
     "output_type": "stream",
     "text": [
      "[10, 15, 20, 25, 30]\n"
     ]
    }
   ],
   "source": [
    "#Lets try in another example\n",
    "input_list2 = [10, 15, 20, 25, 30, 35, 40, 45, 50]\n",
    "threshold2 = 30\n",
    "print(filter_by(input_list2,threshold2))"
   ]
  }
 ],
 "metadata": {
  "kernelspec": {
   "display_name": "Python 3 (ipykernel)",
   "language": "python",
   "name": "python3"
  },
  "language_info": {
   "codemirror_mode": {
    "name": "ipython",
    "version": 3
   },
   "file_extension": ".py",
   "mimetype": "text/x-python",
   "name": "python",
   "nbconvert_exporter": "python",
   "pygments_lexer": "ipython3",
   "version": "3.11.5"
  }
 },
 "nbformat": 4,
 "nbformat_minor": 5
}
