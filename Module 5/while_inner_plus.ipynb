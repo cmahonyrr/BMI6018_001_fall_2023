{
 "cells": [
  {
   "cell_type": "markdown",
   "id": "67228929-ac0c-475d-9477-8267d231b72b",
   "metadata": {},
   "source": [
    "# Question 1\n",
    "Write a python program that, given an input list of any level of complexity/nestedness, will return the inner most list plus 1. This is to be done with a while loop. Note: the input will contain only integers or lists. \r\n",
    "As an example:\r\n",
    "\r\n",
    "input_list = [1,2,3,4,[5,6,7,[8,9]]]\r\n",
    "\r\n",
    "your_py_program.py input_list\r\n",
    "\r\n",
    "will prduce:\r",
    " #\n",
    "[9,10]\r\n",
    "\r\n",
    "That is [8, 9] (the inner most list) plus 1 -> [9, 10]"
   ]
  },
  {
   "cell_type": "code",
   "execution_count": 1,
   "id": "0ac954f3-c4e3-4634-94d2-b801828e07c5",
   "metadata": {},
   "outputs": [
    {
     "name": "stdout",
     "output_type": "stream",
     "text": [
      "[9, 10]\n"
     ]
    }
   ],
   "source": [
    "def while_function(input):\n",
    "    while isinstance(input[-1], list):\n",
    "        input = input[-1]\n",
    "    return [x + 1 for x in input]\n",
    "\n",
    "input_list = [1,2,3,4,[5,6,7,[8,9]]]\n",
    "print(while_function(input_list))"
   ]
  },
  {
   "cell_type": "code",
   "execution_count": 2,
   "id": "ca70364b-8b02-44e5-af66-7d303983ec7b",
   "metadata": {},
   "outputs": [
    {
     "name": "stdout",
     "output_type": "stream",
     "text": [
      "[10, 11, 12]\n"
     ]
    }
   ],
   "source": [
    "#Lets try in another example\n",
    "input_list2 = [1, 2, [3, 4, [5, 6, [7, 8, [9, 10, 11]]]]]\n",
    "print(while_function(input_list2))"
   ]
  }
 ],
 "metadata": {
  "kernelspec": {
   "display_name": "Python 3 (ipykernel)",
   "language": "python",
   "name": "python3"
  },
  "language_info": {
   "codemirror_mode": {
    "name": "ipython",
    "version": 3
   },
   "file_extension": ".py",
   "mimetype": "text/x-python",
   "name": "python",
   "nbconvert_exporter": "python",
   "pygments_lexer": "ipython3",
   "version": "3.11.5"
  }
 },
 "nbformat": 4,
 "nbformat_minor": 5
}
