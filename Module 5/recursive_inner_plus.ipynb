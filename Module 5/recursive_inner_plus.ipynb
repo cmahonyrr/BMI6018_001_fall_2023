{
 "cells": [
  {
   "cell_type": "markdown",
   "id": "7dc2640d-251f-4097-9dfa-5ef81763d59d",
   "metadata": {},
   "source": [
    "# Question 1\r",
    "Write a python program that, given an input list of any level of complexity/nestedness, will return the inner most list plus 1. \n",
    "This is to be done with recursion. Note: the input will contain only integers or lists. > [9, 10]"
   ]
  },
  {
   "cell_type": "code",
   "execution_count": 1,
   "id": "477ff27e-a128-4836-b039-f9466afc5d47",
   "metadata": {},
   "outputs": [
    {
     "name": "stdout",
     "output_type": "stream",
     "text": [
      "[9, 10]\n"
     ]
    }
   ],
   "source": [
    "def recursive_inner_function(input):\n",
    "    if isinstance(input[-1], list):\n",
    "        return recursive_inner_function(input[-1])\n",
    "    else:\n",
    "        return [x + 1 for x in input]\n",
    "\n",
    "input_list = [1,2,3,4,[5,6,7,[8,9]]]\n",
    "\n",
    "print(recursive_inner_function(input_list))"
   ]
  },
  {
   "cell_type": "code",
   "execution_count": 2,
   "id": "e811d58b-0542-4d4b-8e1d-b0849ab502e4",
   "metadata": {},
   "outputs": [
    {
     "name": "stdout",
     "output_type": "stream",
     "text": [
      "[10, 11, 12]\n"
     ]
    }
   ],
   "source": [
    "#Lets try in another example\n",
    "input_list2 = [1, 2, [3, 4, [5, 6, [7, 8, [9, 10, 11]]]]]\n",
    "print(recursive_inner_function(input_list2))"
   ]
  }
 ],
 "metadata": {
  "kernelspec": {
   "display_name": "Python 3 (ipykernel)",
   "language": "python",
   "name": "python3"
  },
  "language_info": {
   "codemirror_mode": {
    "name": "ipython",
    "version": 3
   },
   "file_extension": ".py",
   "mimetype": "text/x-python",
   "name": "python",
   "nbconvert_exporter": "python",
   "pygments_lexer": "ipython3",
   "version": "3.11.5"
  }
 },
 "nbformat": 4,
 "nbformat_minor": 5
}
