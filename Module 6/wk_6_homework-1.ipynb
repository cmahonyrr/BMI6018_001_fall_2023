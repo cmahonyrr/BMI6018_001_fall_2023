{
 "cells": [
  {
   "cell_type": "markdown",
   "id": "402b31fe-ed8f-4eef-8c37-2318fe05bcee",
   "metadata": {},
   "source": [
    "# #%% the humble print statement\n",
    "## 1.a\n",
    "Using the print() function only, get the wrong_add_function to print out where it is making a mistake, given the expected output for ex, \"we are making an error in the loop\", which you would put near the loop. \n",
    "Structure the print() statement to show what the expected output ought to be via f-strings: ie \"The correct answer is supposed to be: [...]\"."
   ]
  },
  {
   "cell_type": "code",
   "execution_count": 49,
   "id": "5a57c15a-b465-457e-8f19-91e159573c89",
   "metadata": {},
   "outputs": [
    {
     "data": {
      "text/plain": [
       "[6, 9, 12]"
      ]
     },
     "execution_count": 49,
     "metadata": {},
     "output_type": "execute_result"
    }
   ],
   "source": [
    "def wrong_add_function(arg1,arg2):\n",
    "   '''\n",
    "   The function takes in two lists of integers, then it adds\n",
    "   all of arg2 to each item of arg1.\n",
    "   \n",
    "   Example:\n",
    "      > wrong_add_function([1,2,3],[1,1,1])\n",
    "      > [6,9,12]\n",
    "\n",
    "   whereas the expected correct answer is, [2,3,4]\n",
    "\n",
    "   Parameters\n",
    "   ----------\n",
    "   arg1 : list\n",
    "      list of integers.\n",
    "   arg2 : list\n",
    "      list of integers.\n",
    "\n",
    "   Returns\n",
    "   -------\n",
    "   arg1 : list\n",
    "      Elements of arg1, with each element having had the contents of \n",
    "      arg2 added to it.\n",
    "\n",
    "   '''\n",
    "   arg1_index=0\n",
    "   while arg1_index < len(arg1):\n",
    "      arg_2_sum = 0\n",
    "      for arg2_elements in arg2:\n",
    "         arg_2_sum = sum([arg1[arg1_index]+i for i in arg2])\n",
    "      arg1[arg1_index]=arg_2_sum  \n",
    "      arg1_index+=1\n",
    "   return arg1\n",
    "\n",
    "arg1 = [1,2,3]\n",
    "arg2 = [1,1,1]\n",
    "\n",
    "wrong_add_function(arg1, arg2)"
   ]
  },
  {
   "cell_type": "code",
   "execution_count": 56,
   "id": "1be284b9-dc27-48a6-9406-d03db3f97cba",
   "metadata": {},
   "outputs": [
    {
     "name": "stdout",
     "output_type": "stream",
     "text": [
      "We are making an error in the loop.\n",
      "The correct answer for arg1 element 1 is supposed to be: 2\n",
      "We are making an error in the loop.\n",
      "The correct answer for arg1 element 2 is supposed to be: 3\n",
      "We are making an error in the loop.\n",
      "The correct answer for arg1 element 3 is supposed to be: 4\n",
      "[1, 2, 3]\n"
     ]
    }
   ],
   "source": [
    "def wrong_add_function(arg1, arg2):\n",
    "    arg1_index = 0\n",
    "    while arg1_index < len(arg1):\n",
    "        arg_2_sum = sum([arg1[arg1_index] + i for i in arg2])\n",
    "        print(\"We are making an error in the loop.\")\n",
    "        expected = arg1[arg1_index] + arg2[arg1_index]\n",
    "        print(f\"The correct answer for arg1 element {arg1_index + 1} is supposed to be: {expected}\")\n",
    "        arg1_index += 1\n",
    "    return arg1\n",
    "\n",
    "arg1 = [1,2,3]\n",
    "arg2 = [1,1,1]\n",
    "print(wrong_add_function(arg1, arg2))"
   ]
  },
  {
   "cell_type": "markdown",
   "id": "e5005ddb-7580-472b-8bed-6dfcf9a7bfad",
   "metadata": {},
   "source": [
    "## 1.b\n",
    "Then, changing as little as possible, modify the function, using the same general structure to output the correct answer. Call this new function correct_add_function()"
   ]
  },
  {
   "cell_type": "code",
   "execution_count": 58,
   "id": "8419c866-0e88-418e-8f0a-d0c780039364",
   "metadata": {},
   "outputs": [
    {
     "name": "stdout",
     "output_type": "stream",
     "text": [
      "[2, 3, 4]\n"
     ]
    }
   ],
   "source": [
    "def correct_add_function(arg1, arg2):\n",
    "    arg1_index = 0\n",
    "    while arg1_index < len(arg1):\n",
    "        arg1[arg1_index] += arg2[arg1_index]\n",
    "        arg1_index += 1\n",
    "    return arg1\n",
    "\n",
    "\n",
    "arg1 = [1, 2, 3]\n",
    "arg2 = [1, 1, 1]\n",
    "\n",
    "print(correct_add_function(arg1, arg2))"
   ]
  },
  {
   "cell_type": "markdown",
   "id": "64290a73-4281-4a1b-aeaa-5d0709d181af",
   "metadata": {},
   "source": [
    "# #%% try, except"
   ]
  },
  {
   "cell_type": "code",
   "execution_count": 75,
   "id": "06be34b0-25fb-4d57-8829-1c823ce0d0ed",
   "metadata": {},
   "outputs": [
    {
     "name": "stdout",
     "output_type": "stream",
     "text": [
      "None\n"
     ]
    }
   ],
   "source": [
    "def wrong_add_function(arg1,arg2):\n",
    "   '''\n",
    "   The function takes in two lists of integers, then it adds\n",
    "   all of arg2 to each item of arg1.\n",
    "   \n",
    "   Example:\n",
    "      > wrong_add_function([1,2,3],[1,1,1])\n",
    "      > [4,5,6]\n",
    "   \n",
    "   If the lists are lists of strings, concatenate them\n",
    "   Example:\n",
    "      > wrong_add_function(['1','2','3'],['1','1','1'])\n",
    "      > ['1111','2111','3111']\n",
    "   Parameters\n",
    "   ----------\n",
    "   arg1 : list\n",
    "      list of integers.\n",
    "   arg2 : list\n",
    "      list of integers.\n",
    "\n",
    "   Returns\n",
    "   -------\n",
    "   arg1 : list\n",
    "      Elements of arg1, with each element having had the contents of \n",
    "      arg2 added to it.\n",
    "\n",
    "   '''\n",
    "   #numeric section\n",
    "   if sum([type(i)==int for i in arg1])==len(arg1) and \\\n",
    "      sum([type(i)==int for i in arg2])==len(arg2):\n",
    "         arg1_index=0\n",
    "         while arg1_index < len(arg1):\n",
    "            arg_2_sum = 0\n",
    "            for arg2_elements in arg2:\n",
    "               arg_2_sum = sum([arg1[arg1_index]+i for i in arg2])\n",
    "            arg1[arg1_index]=arg_2_sum  \n",
    "            arg1_index+=1\n",
    "         return arg1\n",
    "   #string section\n",
    "   elif sum([type(i)==str for i in arg1])==len(arg1) and \\\n",
    "      sum([type(i)==str for i in arg2])==len(arg2):\n",
    "         arg1_index=0\n",
    "         while arg1_index < len(arg1):\n",
    "            arg_2_sum = ''\n",
    "            for arg2_elements in arg2:\n",
    "               arg_2_sum += arg2_elements\n",
    "            arg1[arg1_index]=arg1[arg1_index]+str(arg_2_sum)\n",
    "            arg1_index+=1\n",
    "         return arg1\n",
    "arg_str_1=['1','2','3']\n",
    "arg_str_2=['1','1', 1]\n",
    "\n",
    "print(wrong_add_function(arg_str_1,arg_str_2))"
   ]
  },
  {
   "cell_type": "markdown",
   "id": "3b6868d3-aabe-4518-92cc-64f4f8bf3f1f",
   "metadata": {},
   "source": [
    "## 2.a\n",
    "Update the numeric section of the function with your changes from 1 for both 2.b and 2.c"
   ]
  },
  {
   "cell_type": "code",
   "execution_count": 77,
   "id": "9ed300f5-71a9-445d-ac6a-6dc42bc96fad",
   "metadata": {},
   "outputs": [
    {
     "name": "stdout",
     "output_type": "stream",
     "text": [
      "None\n"
     ]
    }
   ],
   "source": [
    "def wrong_add_function(arg1,arg2):\n",
    "   #numeric section\n",
    "   if sum([type(i)==int for i in arg1])==len(arg1) and \\\n",
    "      sum([type(i)==int for i in arg2])==len(arg2):\n",
    "         arg1_index = 0\n",
    "         while arg1_index < len(arg1):\n",
    "             arg1[arg1_index] += arg2[arg1_index]\n",
    "             arg1_index += 1\n",
    "         return arg1\n",
    "   #string section\n",
    "   elif sum([type(i)==str for i in arg1])==len(arg1) and \\\n",
    "      sum([type(i)==str for i in arg2])==len(arg2):\n",
    "         arg1_index=0\n",
    "         while arg1_index < len(arg1):\n",
    "            arg_2_sum = ''\n",
    "            for arg2_elements in arg2:\n",
    "               arg_2_sum += arg2_elements\n",
    "            arg1[arg1_index]=arg1[arg1_index]+str(arg_2_sum)\n",
    "            arg1_index+=1\n",
    "         return arg1\n",
    "arg_str_1=['1','2','3']\n",
    "arg_str_2=['1','1', 1]\n",
    "\n",
    "print(wrong_add_function(arg_str_1,arg_str_2))"
   ]
  },
  {
   "cell_type": "markdown",
   "id": "53c80ff7-ea44-4c9a-9f91-47b49584ed98",
   "metadata": {},
   "source": [
    "## 2.b\n",
    "Without modifying the string section code itself or the input directly, write a try, except block that catches the issue with the input below and \n",
    "returns an error message to the user, in case users give invalid inputs, (for example an input of [\"5\",\"2\", 5]): Your input argument [1 or 2] at element [n] is not of the expected type. Please change this and rerun. \n",
    "\n",
    "Name this function exception_add_function()"
   ]
  },
  {
   "cell_type": "code",
   "execution_count": 82,
   "id": "12c7b88f-f2f5-4091-a87c-4fc4629ebad2",
   "metadata": {},
   "outputs": [
    {
     "name": "stdout",
     "output_type": "stream",
     "text": [
      "Your input argument 2 at element 2 is not of the expected type. Please change this and rerun.\n"
     ]
    }
   ],
   "source": [
    "def exception_add_function(arg1, arg2):\n",
    "    try:\n",
    "        if not all(isinstance(i, type(arg1[0])) for i in arg1) or not all(isinstance(i, type(arg2[0])) for i in arg2):\n",
    "            raise ValueError\n",
    "        \n",
    "        return wrong_add_function(arg1, arg2)\n",
    "    \n",
    "    except ValueError:\n",
    "        for idx, val in enumerate(arg1):\n",
    "            if not isinstance(val, type(arg1[0])):\n",
    "                return f\"Your input argument 1 at element {idx} is not of the expected type. Please change this and rerun.\"\n",
    "        for idx, val in enumerate(arg2):\n",
    "            if not isinstance(val, type(arg2[0])):\n",
    "                return f\"Your input argument 2 at element {idx} is not of the expected type. Please change this and rerun.\"\n",
    "\n",
    "\n",
    "arg_str_1 = ['1', '2', '3']\n",
    "arg_str_2 = ['1', '1', 1]\n",
    "print(exception_add_function(arg_str_1, arg_str_2))"
   ]
  },
  {
   "cell_type": "markdown",
   "id": "fdc31092-10c1-4cce-ba34-7d932611af6b",
   "metadata": {},
   "source": [
    "# 2.c\n",
    "Without modifying the string section code itself or the input directly, write a try, except block that catches the issue with the input below and gets it to process via the string section. IE, do not, outside the function, change the values of arg_str_1 or arg_str_2. \n",
    "\n",
    "Name this function correction_add_function(), i.e you will not be updating the wrong_add_function, you will simply handle the error of wrong inputs in a seperate function, you want the wrong_add_function to output its current result you are only bolstering the function for edge cases."
   ]
  },
  {
   "cell_type": "code",
   "execution_count": 80,
   "id": "fb14eb3f-db32-4d99-bb26-495a74c8e321",
   "metadata": {},
   "outputs": [
    {
     "name": "stdout",
     "output_type": "stream",
     "text": [
      "['1111', '2111', '3111']\n"
     ]
    }
   ],
   "source": [
    "def correction_add_function(arg1, arg2):\n",
    "    try:\n",
    "        if not all(isinstance(i, type(arg1[0])) for i in arg1) or not all(isinstance(i, type(arg2[0])) for i in arg2):\n",
    "            raise ValueError\n",
    "        \n",
    "        return wrong_add_function(arg1, arg2)\n",
    "    \n",
    "    except ValueError:\n",
    "        arg1 = [str(i) for i in arg1]\n",
    "        arg2 = [str(i) for i in arg2]\n",
    "        \n",
    "        return wrong_add_function(arg1, arg2)\n",
    "\n",
    "arg_str_1 = ['1', '2', '3']\n",
    "arg_str_2 = ['1', '1', 1]\n",
    "print(correction_add_function(arg_str_1, arg_str_2))"
   ]
  }
 ],
 "metadata": {
  "kernelspec": {
   "display_name": "Python 3 (ipykernel)",
   "language": "python",
   "name": "python3"
  },
  "language_info": {
   "codemirror_mode": {
    "name": "ipython",
    "version": 3
   },
   "file_extension": ".py",
   "mimetype": "text/x-python",
   "name": "python",
   "nbconvert_exporter": "python",
   "pygments_lexer": "ipython3",
   "version": "3.11.5"
  }
 },
 "nbformat": 4,
 "nbformat_minor": 5
}
