{
 "cells": [
  {
   "cell_type": "code",
   "execution_count": 1,
   "id": "861c7593-00d1-44cc-9109-10990726e535",
   "metadata": {},
   "outputs": [],
   "source": [
    "#%% Libraries\n",
    "import pandas as pd\n",
    "import matplotlib.pyplot as plt\n",
    "import numpy as np\n",
    "\n",
    "#%% Importing Data\n",
    "flights_data = pd.read_csv('flights.csv')\n",
    "flights_data.head(10)\n",
    "weather_data_pd = pd.read_csv('weather.csv')\n",
    "weather_data_np = weather_data_pd.to_numpy()"
   ]
  },
  {
   "cell_type": "markdown",
   "id": "aee35c49-d6b1-4016-a830-978fb83b8c95",
   "metadata": {},
   "source": [
    "## Q1: How many flights were there from JFK to SLC?"
   ]
  },
  {
   "cell_type": "code",
   "execution_count": 3,
   "id": "99343065-e655-4e52-9740-9f3203b146b9",
   "metadata": {},
   "outputs": [
    {
     "name": "stdout",
     "output_type": "stream",
     "text": [
      "2113\n"
     ]
    }
   ],
   "source": [
    "q_1 = flights_data[(flights_data['origin'] == 'JFK') & (flights_data['dest'] == 'SLC')].shape[0]\n",
    "print(q_1)"
   ]
  },
  {
   "cell_type": "markdown",
   "id": "3a4ca917-594f-48f6-b8c7-0592daa3deb0",
   "metadata": {},
   "source": [
    "## Q2: How many airlines fly to SLC?"
   ]
  },
  {
   "cell_type": "code",
   "execution_count": 4,
   "id": "fca01076-b7c9-45be-911a-6fd537846d88",
   "metadata": {},
   "outputs": [
    {
     "name": "stdout",
     "output_type": "stream",
     "text": [
      "2\n"
     ]
    }
   ],
   "source": [
    "q_2 = flights_data[flights_data['dest'] == 'SLC']['carrier'].nunique()\n",
    "print(q_2)"
   ]
  },
  {
   "cell_type": "markdown",
   "id": "b15e76ac-e62c-4349-98e6-f4fea6ba7b30",
   "metadata": {},
   "source": [
    "## Q3: What is the average arrival delay for flights to RDU?"
   ]
  },
  {
   "cell_type": "code",
   "execution_count": 6,
   "id": "d84eb2b5-3988-4bc1-8c99-9c8259cf6a98",
   "metadata": {},
   "outputs": [
    {
     "name": "stdout",
     "output_type": "stream",
     "text": [
      "10.052380952380952\n"
     ]
    }
   ],
   "source": [
    "q_3 = flights_data[flights_data['dest'] == 'RDU']['arr_delay'].mean()\n",
    "print(q_3)"
   ]
  },
  {
   "cell_type": "markdown",
   "id": "41319fbe-5d77-495d-80ef-6a0fa6fc219f",
   "metadata": {},
   "source": [
    "## Q4: What proportion of flights to SEA come from the two NYC airports (LGA and JFK)?"
   ]
  },
  {
   "cell_type": "code",
   "execution_count": 7,
   "id": "fc604282-8361-4f3f-947d-d85528eaea65",
   "metadata": {},
   "outputs": [
    {
     "name": "stdout",
     "output_type": "stream",
     "text": [
      "0.5332653581442773\n"
     ]
    }
   ],
   "source": [
    "flights_to_SEA = flights_data[flights_data['dest'] == 'SEA']\n",
    "proportion_from_NYC = flights_to_SEA[flights_to_SEA['origin'].isin(['LGA', 'JFK'])].shape[0] / flights_to_SEA.shape[0]\n",
    "q_4 = proportion_from_NYC\n",
    "print(q_4)"
   ]
  },
  {
   "cell_type": "markdown",
   "id": "019051cf-9677-4b27-9445-d2ba7b96c6b7",
   "metadata": {},
   "source": [
    "## Q5: Which date has the largest average departure delay?"
   ]
  },
  {
   "cell_type": "code",
   "execution_count": 13,
   "id": "82c950d4-963f-4797-8308-4b2bff84d85c",
   "metadata": {},
   "outputs": [
    {
     "name": "stdout",
     "output_type": "stream",
     "text": [
      "83.5369211514393\n"
     ]
    }
   ],
   "source": [
    "flights_data['date'] = flights_data['year'].astype(str) + '/' + flights_data['month'].astype(str) + '/' + flights_data['day'].astype(str)\n",
    "avg_dep_delay_per_date = flights_data.groupby('date')['dep_delay'].mean()\n",
    "q_5_date = avg_dep_delay_per_date.idxmax()\n",
    "q_5= avg_dep_delay_per_date.max()\n",
    "print(q_5)"
   ]
  },
  {
   "cell_type": "code",
   "execution_count": null,
   "id": "a7571be8-c0df-40a5-90ed-8c7fe13838b9",
   "metadata": {},
   "outputs": [],
   "source": [
    "## Question 6: Which date has the largest average arrival delay?"
   ]
  },
  {
   "cell_type": "code",
   "execution_count": 15,
   "id": "be58f1bb-1bae-4c97-b6fd-a090797adaa3",
   "metadata": {},
   "outputs": [
    {
     "name": "stdout",
     "output_type": "stream",
     "text": [
      "85.86215538847118\n"
     ]
    }
   ],
   "source": [
    "avg_arr_delay_per_date = flights_data.groupby('date')['arr_delay'].mean()\n",
    "q_6_date = avg_arr_delay_per_date.idxmax()\n",
    "q_6 = avg_arr_delay_per_date.max()\n",
    "print(q_6)"
   ]
  },
  {
   "cell_type": "markdown",
   "id": "317b4c90-3e7a-4c0d-8d51-4c1b64cd0ab6",
   "metadata": {},
   "source": [
    "## Question 7: Which flight departing LGA or JFK in 2013 flew the fastest? \n",
    "Speed = distance / airtime"
   ]
  },
  {
   "cell_type": "code",
   "execution_count": 19,
   "id": "b3bbe82e-9eaf-4560-88bc-3931ad8f5701",
   "metadata": {},
   "outputs": [
    {
     "name": "stdout",
     "output_type": "stream",
     "text": [
      "       tailnum      speed\n",
      "216447  N666DN  11.723077\n"
     ]
    }
   ],
   "source": [
    "flights_data['speed'] = flights_data['distance'] / flights_data['air_time']\n",
    "fastest_flight = flights_data[flights_data['origin'].isin(['LGA', 'JFK'])].nlargest(1, 'speed')\n",
    "q_7 = fastest_flight[['tailnum', 'speed']]\n",
    "print(q_7)"
   ]
  },
  {
   "cell_type": "markdown",
   "id": "dcb48043-93ab-414f-852a-a14c749a90e1",
   "metadata": {},
   "source": [
    "## Question 8: Replace all nans in the weather pd dataframe with 0s. Pd with no nans"
   ]
  },
  {
   "cell_type": "code",
   "execution_count": 22,
   "id": "f5f1c5cb-237f-42f4-973b-abeae90a3651",
   "metadata": {},
   "outputs": [
    {
     "data": {
      "text/html": [
       "<div>\n",
       "<style scoped>\n",
       "    .dataframe tbody tr th:only-of-type {\n",
       "        vertical-align: middle;\n",
       "    }\n",
       "\n",
       "    .dataframe tbody tr th {\n",
       "        vertical-align: top;\n",
       "    }\n",
       "\n",
       "    .dataframe thead th {\n",
       "        text-align: right;\n",
       "    }\n",
       "</style>\n",
       "<table border=\"1\" class=\"dataframe\">\n",
       "  <thead>\n",
       "    <tr style=\"text-align: right;\">\n",
       "      <th></th>\n",
       "      <th>Unnamed: 0</th>\n",
       "      <th>origin</th>\n",
       "      <th>year</th>\n",
       "      <th>month</th>\n",
       "      <th>day</th>\n",
       "      <th>hour</th>\n",
       "      <th>temp</th>\n",
       "      <th>dewp</th>\n",
       "      <th>humid</th>\n",
       "      <th>wind_dir</th>\n",
       "      <th>wind_speed</th>\n",
       "      <th>wind_gust</th>\n",
       "      <th>precip</th>\n",
       "      <th>pressure</th>\n",
       "      <th>visib</th>\n",
       "    </tr>\n",
       "  </thead>\n",
       "  <tbody>\n",
       "    <tr>\n",
       "      <th>0</th>\n",
       "      <td>1</td>\n",
       "      <td>EWR</td>\n",
       "      <td>2013</td>\n",
       "      <td>1.0</td>\n",
       "      <td>1.0</td>\n",
       "      <td>0.0</td>\n",
       "      <td>37.04</td>\n",
       "      <td>21.92</td>\n",
       "      <td>53.97</td>\n",
       "      <td>230.0</td>\n",
       "      <td>10.35702</td>\n",
       "      <td>11.918651</td>\n",
       "      <td>0.0</td>\n",
       "      <td>1013.9</td>\n",
       "      <td>10.0</td>\n",
       "    </tr>\n",
       "    <tr>\n",
       "      <th>1</th>\n",
       "      <td>2</td>\n",
       "      <td>EWR</td>\n",
       "      <td>2013</td>\n",
       "      <td>1.0</td>\n",
       "      <td>1.0</td>\n",
       "      <td>1.0</td>\n",
       "      <td>37.04</td>\n",
       "      <td>21.92</td>\n",
       "      <td>53.97</td>\n",
       "      <td>230.0</td>\n",
       "      <td>13.80936</td>\n",
       "      <td>15.891535</td>\n",
       "      <td>0.0</td>\n",
       "      <td>1013.0</td>\n",
       "      <td>10.0</td>\n",
       "    </tr>\n",
       "    <tr>\n",
       "      <th>2</th>\n",
       "      <td>3</td>\n",
       "      <td>EWR</td>\n",
       "      <td>2013</td>\n",
       "      <td>1.0</td>\n",
       "      <td>1.0</td>\n",
       "      <td>2.0</td>\n",
       "      <td>37.94</td>\n",
       "      <td>21.92</td>\n",
       "      <td>52.09</td>\n",
       "      <td>230.0</td>\n",
       "      <td>12.65858</td>\n",
       "      <td>14.567241</td>\n",
       "      <td>0.0</td>\n",
       "      <td>1012.6</td>\n",
       "      <td>10.0</td>\n",
       "    </tr>\n",
       "  </tbody>\n",
       "</table>\n",
       "</div>"
      ],
      "text/plain": [
       "   Unnamed: 0 origin  year  month  day  hour   temp   dewp  humid  wind_dir  \\\n",
       "0           1    EWR  2013    1.0  1.0   0.0  37.04  21.92  53.97     230.0   \n",
       "1           2    EWR  2013    1.0  1.0   1.0  37.04  21.92  53.97     230.0   \n",
       "2           3    EWR  2013    1.0  1.0   2.0  37.94  21.92  52.09     230.0   \n",
       "\n",
       "   wind_speed  wind_gust  precip  pressure  visib  \n",
       "0    10.35702  11.918651     0.0    1013.9   10.0  \n",
       "1    13.80936  15.891535     0.0    1013.0   10.0  \n",
       "2    12.65858  14.567241     0.0    1012.6   10.0  "
      ]
     },
     "execution_count": 22,
     "metadata": {},
     "output_type": "execute_result"
    }
   ],
   "source": [
    "q_8 = weather_data_pd.fillna(0)\n",
    "q_8.head(3) "
   ]
  },
  {
   "cell_type": "markdown",
   "id": "3b538355-9149-4b62-9561-ae7ec36a419a",
   "metadata": {},
   "source": [
    "## Question 9: How many observations were made in February?"
   ]
  },
  {
   "cell_type": "code",
   "execution_count": 24,
   "id": "5b640195-f564-4271-80a3-9ce1699b7abc",
   "metadata": {},
   "outputs": [
    {
     "name": "stdout",
     "output_type": "stream",
     "text": [
      "671\n"
     ]
    }
   ],
   "source": [
    "# Filtering data for February observations\n",
    "february_data = weather_data_np[weather_data_np[:, 3] == 2]\n",
    "# Question 9: Number of observations in February\n",
    "q_9 = february_data.shape[0]\n",
    "print(q_9)"
   ]
  },
  {
   "cell_type": "markdown",
   "id": "9d6fff74-a3dc-4e57-8cfd-7a09f6ecd0dd",
   "metadata": {},
   "source": [
    "## Question 10: Mean for humidity in February"
   ]
  },
  {
   "cell_type": "code",
   "execution_count": 25,
   "id": "db31c6b5-36fc-4976-93ef-ecbe5c4ae55e",
   "metadata": {},
   "outputs": [
    {
     "name": "stdout",
     "output_type": "stream",
     "text": [
      "62.918152011922515\n"
     ]
    }
   ],
   "source": [
    "q_10 = np.mean(february_data[:, 8])\n",
    "print(q_10)"
   ]
  },
  {
   "cell_type": "markdown",
   "id": "945faf77-0e58-4c2f-babd-973738072966",
   "metadata": {},
   "source": [
    "## Question 11: Standard deviation for humidity in February"
   ]
  },
  {
   "cell_type": "code",
   "execution_count": 26,
   "id": "c87fe07b-4b71-4a3a-9a38-e444522f7a79",
   "metadata": {},
   "outputs": [
    {
     "name": "stdout",
     "output_type": "stream",
     "text": [
      "20.33690087674334\n"
     ]
    }
   ],
   "source": [
    "q_11 = np.std(february_data[:, 8])\n",
    "print(q_11)"
   ]
  }
 ],
 "metadata": {
  "kernelspec": {
   "display_name": "Python 3 (ipykernel)",
   "language": "python",
   "name": "python3"
  },
  "language_info": {
   "codemirror_mode": {
    "name": "ipython",
    "version": 3
   },
   "file_extension": ".py",
   "mimetype": "text/x-python",
   "name": "python",
   "nbconvert_exporter": "python",
   "pygments_lexer": "ipython3",
   "version": "3.11.5"
  }
 },
 "nbformat": 4,
 "nbformat_minor": 5
}
