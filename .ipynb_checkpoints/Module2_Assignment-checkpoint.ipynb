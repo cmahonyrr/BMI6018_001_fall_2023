{
 "cells": [
  {
   "cell_type": "markdown",
   "id": "88bf2909-b4cd-48bf-b3b2-786064ee98a1",
   "metadata": {},
   "source": [
    "# Module 2 - Assignment\n",
    "* Student: C. Mahony Reategui Rivera"
   ]
  },
  {
   "cell_type": "markdown",
   "id": "c91c7138-d8db-4da9-80a8-8dda35bd2a4b",
   "metadata": {},
   "source": [
    "# Question 11\n",
    "Provide a link with code for the following questions:  Question 1 (Booleans),  Question 2 (Booleans 2),  Question 5 (Strings), Question 6 (Strings 2),  Question 9 (Operators 2), and Question 10 (String 3)"
   ]
  },
  {
   "cell_type": "markdown",
   "id": "eb1e45cc-3017-4ece-ac79-7d9c5fac1079",
   "metadata": {},
   "source": [
    "## Question 1\n",
    "boolean True + boolean True - boolean False = ?"
   ]
  },
  {
   "cell_type": "code",
   "execution_count": 1,
   "id": "793b3b20-2bb3-4e09-90df-f8f2750c9613",
   "metadata": {},
   "outputs": [
    {
     "data": {
      "text/plain": [
       "2"
      ]
     },
     "execution_count": 1,
     "metadata": {},
     "output_type": "execute_result"
    }
   ],
   "source": [
    "True + True - False"
   ]
  },
  {
   "cell_type": "markdown",
   "id": "bbcb62ec-2957-47c7-b176-e3fea70dd4fa",
   "metadata": {},
   "source": [
    "## Question 2\n",
    "logical tracker = True\r\n",
    "\r\n",
    "logical tracker = logical tracker & logical tracker\r\n",
    "\r\n",
    "logical tracker = logical tracker | (logical tracker - logical trac\n",
    "\n",
    "logical tracker  = ?ker)"
   ]
  },
  {
   "cell_type": "code",
   "execution_count": 2,
   "id": "62b9c5f0-4c9e-4973-b912-c39fd8ae30ff",
   "metadata": {},
   "outputs": [
    {
     "data": {
      "text/plain": [
       "1"
      ]
     },
     "execution_count": 2,
     "metadata": {},
     "output_type": "execute_result"
    }
   ],
   "source": [
    "logical_tracker = True\n",
    "\n",
    "logical_tracker = logical_tracker & logical_tracker\n",
    "\n",
    "logical_tracker = logical_tracker | (logical_tracker - logical_tracker)\n",
    "\n",
    "logical_tracker"
   ]
  },
  {
   "cell_type": "markdown",
   "id": "701613c2-b9b4-44d6-ab3b-690d2e1070c0",
   "metadata": {},
   "source": [
    "## Question 5\n",
    "string = \"E. Coli\"\r\n",
    "\r\n",
    "string[2]="
   ]
  },
  {
   "cell_type": "code",
   "execution_count": 3,
   "id": "e730c0b4-0335-4279-80d0-e660562e27cf",
   "metadata": {},
   "outputs": [
    {
     "data": {
      "text/plain": [
       "' '"
      ]
     },
     "execution_count": 3,
     "metadata": {},
     "output_type": "execute_result"
    }
   ],
   "source": [
    "string = \"E. Coli\"\n",
    "\n",
    "string[2]"
   ]
  },
  {
   "cell_type": "markdown",
   "id": "6a1cde81-5544-44ed-978a-a5195fd84b40",
   "metadata": {},
   "source": [
    "## Question 6\n",
    "Oh no! My string has a typo!\r\n",
    "\r\n",
    "string = \"I Bove python\"\r\n",
    "\r\n",
    "No worries though. I'll just fix that.\r\n",
    "\r\n",
    "string[2]=\"L\""
   ]
  },
  {
   "cell_type": "code",
   "execution_count": 4,
   "id": "7637cfb2-2f48-45d7-a7e5-cbc1cb4af5e1",
   "metadata": {},
   "outputs": [
    {
     "ename": "TypeError",
     "evalue": "'str' object does not support item assignment",
     "output_type": "error",
     "traceback": [
      "\u001b[1;31m---------------------------------------------------------------------------\u001b[0m",
      "\u001b[1;31mTypeError\u001b[0m                                 Traceback (most recent call last)",
      "Cell \u001b[1;32mIn[4], line 2\u001b[0m\n\u001b[0;32m      1\u001b[0m string \u001b[38;5;241m=\u001b[39m \u001b[38;5;124m\"\u001b[39m\u001b[38;5;124mI Bove python\u001b[39m\u001b[38;5;124m\"\u001b[39m\n\u001b[1;32m----> 2\u001b[0m \u001b[43mstring\u001b[49m\u001b[43m[\u001b[49m\u001b[38;5;241;43m2\u001b[39;49m\u001b[43m]\u001b[49m\u001b[38;5;241m=\u001b[39m\u001b[38;5;124m\"\u001b[39m\u001b[38;5;124mL\u001b[39m\u001b[38;5;124m\"\u001b[39m\n",
      "\u001b[1;31mTypeError\u001b[0m: 'str' object does not support item assignment"
     ]
    }
   ],
   "source": [
    "string = \"I Bove python\"\n",
    "string[2]=\"L\""
   ]
  },
  {
   "cell_type": "markdown",
   "id": "a3734efd-e5ba-47f4-9643-d9f3ca1c8ecc",
   "metadata": {},
   "source": [
    "## Question 9\n",
    "Explain how the \"+\", addition operation works differently for integers and strings.\r",
    "\r\n",
    "\r\n"
   ]
  },
  {
   "cell_type": "code",
   "execution_count": 6,
   "id": "84c5f1cf-720d-4016-a4cf-62aa63fef0a1",
   "metadata": {},
   "outputs": [
    {
     "data": {
      "text/plain": [
       "3"
      ]
     },
     "execution_count": 6,
     "metadata": {},
     "output_type": "execute_result"
    }
   ],
   "source": [
    "# Plus between integers\n",
    "1 + 2\n",
    "##Between integers \"+\" express arithmetic adition"
   ]
  },
  {
   "cell_type": "code",
   "execution_count": 7,
   "id": "3c09424f-75a8-41ac-8d22-22d28e2514a1",
   "metadata": {},
   "outputs": [
    {
     "data": {
      "text/plain": [
       "'Helloworld'"
      ]
     },
     "execution_count": 7,
     "metadata": {},
     "output_type": "execute_result"
    }
   ],
   "source": [
    "# Plus between strings\n",
    "\"Hello\" + \"world\"\n",
    "##While for strings performs concatenation of the strings"
   ]
  },
  {
   "cell_type": "markdown",
   "id": "3dcc4e70-34b6-4328-8c1c-0c2eb439bf4f",
   "metadata": {},
   "source": [
    "## Question 10\n",
    "Type the output if the strings \"7\" and \"3\" are added.\n",
    "\r\n"
   ]
  },
  {
   "cell_type": "code",
   "execution_count": 8,
   "id": "560d5e49-b321-4562-afa4-749805aebb18",
   "metadata": {},
   "outputs": [
    {
     "data": {
      "text/plain": [
       "'73'"
      ]
     },
     "execution_count": 8,
     "metadata": {},
     "output_type": "execute_result"
    }
   ],
   "source": [
    "\"7\"+\"3\""
   ]
  }
 ],
 "metadata": {
  "kernelspec": {
   "display_name": "Python 3 (ipykernel)",
   "language": "python",
   "name": "python3"
  },
  "language_info": {
   "codemirror_mode": {
    "name": "ipython",
    "version": 3
   },
   "file_extension": ".py",
   "mimetype": "text/x-python",
   "name": "python",
   "nbconvert_exporter": "python",
   "pygments_lexer": "ipython3",
   "version": "3.11.5"
  }
 },
 "nbformat": 4,
 "nbformat_minor": 5
}
