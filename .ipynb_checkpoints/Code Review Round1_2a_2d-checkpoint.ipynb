{
 "cells": [
  {
   "cell_type": "markdown",
   "id": "442a5d20-34c4-48bc-9b8e-385e1404b264",
   "metadata": {},
   "source": [
    "# Problem 2: Dictionary woes\n",
    "\n",
    "## Question 2.a \n",
    "Combine the three sample dictionaries (given below) into a nested dictionary (nested in programming means joined), named two_a, ensure the key names are the same as the dictionary names."
   ]
  },
  {
   "cell_type": "code",
   "execution_count": 23,
   "id": "af480f99-4073-48c5-97c8-27eec942fe52",
   "metadata": {},
   "outputs": [],
   "source": [
    "two_patient_dictionary_kinoko = {\n",
    "  \"name\" : \"Kinoko\",\n",
    "  \"year\" : 2021\n",
    "}\n",
    "two_patient_dictionary_dango = {\n",
    "  \"name\" : \"Dango\",\n",
    "  \"year\" : 2019\n",
    "}\n",
    "two_patient_dictionary_mochi  = {\n",
    "  \"name\" : \"Mochi\",\n",
    "  \"year\" : 2020\n",
    "}"
   ]
  },
  {
   "cell_type": "code",
   "execution_count": 24,
   "id": "f017d995-039f-48b1-bd4b-f28601f7e329",
   "metadata": {},
   "outputs": [
    {
     "name": "stdout",
     "output_type": "stream",
     "text": [
      "Question 2.a\n",
      "{'Kinoko': {'name': 'Kinoko', 'year': 2021}, 'Dango': {'name': 'Dango', 'year': 2019}, 'Mochi': {'name': 'Mochi', 'year': 2020}}\n"
     ]
    }
   ],
   "source": [
    "two_a = {\n",
    "    \"Kinoko\": two_patient_dictionary_kinoko,\n",
    "    \"Dango\": two_patient_dictionary_dango,\n",
    "    \"Mochi\": two_patient_dictionary_mochi\n",
    "}\n",
    "print(\"Question 2.a\")\n",
    "print(two_a)"
   ]
  },
  {
   "cell_type": "markdown",
   "id": "aec8c80a-891c-4894-8ae6-423732bb27e2",
   "metadata": {},
   "source": [
    "## Question 2.b \n",
    "Using keys, retrieve the Dango's name from 2.a"
   ]
  },
  {
   "cell_type": "code",
   "execution_count": 25,
   "id": "ad116ec3-f694-44f4-9e17-cbfc91e9d877",
   "metadata": {},
   "outputs": [
    {
     "name": "stdout",
     "output_type": "stream",
     "text": [
      "Dango\n"
     ]
    }
   ],
   "source": [
    "two_b = two_a[\"Dango\"][\"name\"]\n",
    "\n",
    "print(two_b)"
   ]
  },
  {
   "cell_type": "code",
   "execution_count": 27,
   "id": "2c4ab117-3af7-4e46-953c-183e236233f4",
   "metadata": {},
   "outputs": [
    {
     "name": "stdout",
     "output_type": "stream",
     "text": [
      "dict_keys(['Kinoko', 'Dango', 'Mochi'])\n"
     ]
    }
   ],
   "source": [
    "two_b_2 = two_a.keys()\n",
    "\n",
    "print(two_b_2)"
   ]
  },
  {
   "cell_type": "code",
   "execution_count": 28,
   "id": "313419dd-8ecf-405e-8010-0b8a6890d997",
   "metadata": {},
   "outputs": [
    {
     "name": "stdout",
     "output_type": "stream",
     "text": [
      "Dango\n"
     ]
    }
   ],
   "source": [
    "if \"Dango\" in two_a.keys():\n",
    "    two_b_2 = two_a[\"Dango\"][\"name\"]\n",
    "    print(two_b_2)"
   ]
  },
  {
   "cell_type": "markdown",
   "id": "b8bbef71-2aae-4ba1-bb25-ec535b923fc6",
   "metadata": {},
   "source": [
    "## Question 2.c \n",
    "Using keys, update the value of Mochi's year to 2018. This should not be a variable and should simply update 2.a."
   ]
  },
  {
   "cell_type": "code",
   "execution_count": 29,
   "id": "2a1a893b-3e53-4790-8e40-b4569f6450fe",
   "metadata": {},
   "outputs": [
    {
     "name": "stdout",
     "output_type": "stream",
     "text": [
      "Question 2.c\n",
      "{'Kinoko': {'name': 'Kinoko', 'year': 2021}, 'Dango': {'name': 'Dango', 'year': 2019}, 'Mochi': {'name': 'Mochi', 'year': 2018}}\n"
     ]
    }
   ],
   "source": [
    "two_c = two_a.copy()\n",
    "two_c[\"Mochi\"][\"year\"] = 2018\n",
    "print(\"Question 2.c\")\n",
    "print(two_c)"
   ]
  },
  {
   "cell_type": "code",
   "execution_count": 31,
   "id": "5ca6e741-7185-4c59-ab7e-439b9ea8ed70",
   "metadata": {},
   "outputs": [
    {
     "name": "stdout",
     "output_type": "stream",
     "text": [
      "Question 2.c\n",
      "{'Kinoko': {'name': 'Kinoko', 'year': 2021}, 'Dango': {'name': 'Dango', 'year': 2019}, 'Mochi': {'name': 'Mochi', 'year': 2018}}\n"
     ]
    }
   ],
   "source": [
    "two_c_2 = two_a.copy()\n",
    "two_c_2[\"Mochi\"][\"year\"]-2\n",
    "print(\"Question 2.c\")\n",
    "print(two_c_2)"
   ]
  },
  {
   "cell_type": "markdown",
   "id": "8d9c56fb-1927-430f-9ae5-d51e283ff5ce",
   "metadata": {},
   "source": [
    "## Question 2.d \n",
    "Manually create a dictionary that has a single level and contains each patient as the key and the year as the value. Set Mochi's year to 2019.'"
   ]
  },
  {
   "cell_type": "code",
   "execution_count": 30,
   "id": "705a1f8b-09ce-46e3-b123-1b01beea0b48",
   "metadata": {},
   "outputs": [
    {
     "name": "stdout",
     "output_type": "stream",
     "text": [
      "Question 2.d\n",
      "{'Kinoko': 2021, 'Dango': 2019, 'Mochi': 2019}\n"
     ]
    }
   ],
   "source": [
    "two_d = {\n",
    "    \"Kinoko\": 2021,\n",
    "    \"Dango\": 2019,\n",
    "    \"Mochi\": 2019\n",
    "}\n",
    "print(\"Question 2.d\")\n",
    "print(two_d)"
   ]
  }
 ],
 "metadata": {
  "kernelspec": {
   "display_name": "Python 3 (ipykernel)",
   "language": "python",
   "name": "python3"
  },
  "language_info": {
   "codemirror_mode": {
    "name": "ipython",
    "version": 3
   },
   "file_extension": ".py",
   "mimetype": "text/x-python",
   "name": "python",
   "nbconvert_exporter": "python",
   "pygments_lexer": "ipython3",
   "version": "3.11.5"
  }
 },
 "nbformat": 4,
 "nbformat_minor": 5
}
