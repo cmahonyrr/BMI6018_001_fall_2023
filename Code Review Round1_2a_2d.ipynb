{
 "cells": [
  {
   "cell_type": "code",
   "execution_count": 1,
   "id": "af480f99-4073-48c5-97c8-27eec942fe52",
   "metadata": {},
   "outputs": [
    {
     "name": "stdout",
     "output_type": "stream",
     "text": [
      "Question 2.a\n",
      "{'kinoko': {'name': 'Kinoko', 'year': 2021}, 'dango': {'name': 'Dango', 'year': 2019}, 'mochi': {'name': 'Mochi', 'year': 2020}}\n",
      "Question 2.b\n",
      "Dango\n",
      "Question 2.c\n",
      "{'kinoko': {'name': 'Kinoko', 'year': 2021}, 'dango': {'name': 'Dango', 'year': 2019}, 'mochi': {'name': 'Mochi', 'year': 2018}}\n",
      "Question 2.d\n",
      "{'Kinoko': 2021, 'Dango': 2019, 'Mochi': 2019}\n"
     ]
    }
   ],
   "source": [
    "# Problem 2: Dictionary woes\n",
    "\n",
    "##2.a Combine the three sample dictionaries (given below) into a nested dictionary (nested in programming means joined), named two_a, ensure the key names are the same as the dictionary names.\n",
    "two_patient_dictionary_kinoko = {\n",
    "  \"name\" : \"Kinoko\",\n",
    "  \"year\" : 2021\n",
    "}\n",
    "two_patient_dictionary_dango = {\n",
    "  \"name\" : \"Dango\",\n",
    "  \"year\" : 2019\n",
    "}\n",
    "two_patient_dictionary_mochi  = {\n",
    "  \"name\" : \"Mochi\",\n",
    "  \"year\" : 2020\n",
    "}\n",
    "\n",
    "two_a = {\n",
    "    \"kinoko\": two_patient_dictionary_kinoko,\n",
    "    \"dango\": two_patient_dictionary_dango,\n",
    "    \"mochi\": two_patient_dictionary_mochi\n",
    "}\n",
    "print(\"Question 2.a\")\n",
    "print(two_a)\n",
    "##2.b Using keys, retrieve the Dango's name from 2.a\n",
    "two_b = two_a[\"dango\"][\"name\"]\n",
    "print(\"Question 2.b\")\n",
    "print(two_b)\n",
    "##2.c Using keys, update the value of Mochi's year to 2018. This should not be a variable and should simply update 2.a.\n",
    "two_c = two_a.copy()\n",
    "two_c[\"mochi\"][\"year\"] = 2018\n",
    "print(\"Question 2.c\")\n",
    "print(two_c)\n",
    "##2.d Manually create a dictionary that has a single level and contains each patient as the key and the year as the value. Set Mochi's year to 2019.'\n",
    "two_d = {\n",
    "    \"Kinoko\": 2021,\n",
    "    \"Dango\": 2019,\n",
    "    \"Mochi\": 2019\n",
    "}\n",
    "print(\"Question 2.d\")\n",
    "print(two_d)"
   ]
  },
  {
   "cell_type": "code",
   "execution_count": null,
   "id": "ad116ec3-f694-44f4-9e17-cbfc91e9d877",
   "metadata": {},
   "outputs": [],
   "source": []
  }
 ],
 "metadata": {
  "kernelspec": {
   "display_name": "Python 3 (ipykernel)",
   "language": "python",
   "name": "python3"
  },
  "language_info": {
   "codemirror_mode": {
    "name": "ipython",
    "version": 3
   },
   "file_extension": ".py",
   "mimetype": "text/x-python",
   "name": "python",
   "nbconvert_exporter": "python",
   "pygments_lexer": "ipython3",
   "version": "3.11.5"
  }
 },
 "nbformat": 4,
 "nbformat_minor": 5
}
