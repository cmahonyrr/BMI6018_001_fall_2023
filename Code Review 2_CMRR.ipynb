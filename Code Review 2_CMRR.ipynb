{
 "cells": [
  {
   "cell_type": "markdown",
   "id": "837459be-8cac-4a9e-89fb-fea787ab9b65",
   "metadata": {},
   "source": [
    "# Module 5: Advanced Function and Logic\n",
    "## Question 3 (there is not question 5)\n",
    "Write a python program that, given an input list, will filter the input above a user defined threshold. This is to be done with a standard function.\n",
    "\n",
    "That is, given a list [1,2,3,4,5,6,7,8,9], and an argument (6), it should return [1,2,3,4,5,6]"
   ]
  },
  {
   "cell_type": "code",
   "execution_count": 1,
   "id": "44004c39-0957-422a-bd0e-2f068fb53d33",
   "metadata": {},
   "outputs": [
    {
     "name": "stdout",
     "output_type": "stream",
     "text": [
      "[1, 2, 3, 4, 5, 6]\n"
     ]
    }
   ],
   "source": [
    "def filter_by(input, threshold):\n",
    "    return [x for x in input if x <= threshold]\n",
    "\n",
    "input_list = [1,2,3,4,5,6,7,8,9]\n",
    "threshold = 6\n",
    "print(filter_by(input_list, threshold))"
   ]
  },
  {
   "cell_type": "code",
   "execution_count": 2,
   "id": "9d18acae-1c8d-4cd9-a763-976f7b8893ca",
   "metadata": {},
   "outputs": [
    {
     "name": "stdout",
     "output_type": "stream",
     "text": [
      "[10, 15, 20, 25, 30]\n"
     ]
    }
   ],
   "source": [
    "#Lets try in another example\n",
    "input_list2 = [10, 15, 20, 25, 30, 35, 40, 45, 50]\n",
    "threshold2 = 30\n",
    "print(filter_by(input_list2,threshold2))"
   ]
  },
  {
   "cell_type": "markdown",
   "id": "7685410c-3c01-4eb4-870a-0a7fcbdae887",
   "metadata": {},
   "source": [
    "# Module 6: Debugging\n",
    "## Question 1.a  \n",
    "Using the print() function only, get the wrong_add_function to print out where it is making a mistake, given the expected output for ex, \"we are making an error in the loop\", which you would put near the loop. Structure the print() statement to show what the expected output ought to be via f-strings: ie \"The correct answer is supposed to be: [...]\"."
   ]
  },
  {
   "cell_type": "code",
   "execution_count": 3,
   "id": "e0120ca1-34e5-4be5-bc50-41180c2a9f71",
   "metadata": {},
   "outputs": [
    {
     "data": {
      "text/plain": [
       "[6, 9, 12]"
      ]
     },
     "execution_count": 3,
     "metadata": {},
     "output_type": "execute_result"
    }
   ],
   "source": [
    "def wrong_add_function(arg1,arg2):\n",
    "   '''\n",
    "   The function takes in two lists of integers, then it adds\n",
    "   all of arg2 to each item of arg1.\n",
    "   \n",
    "   Example:\n",
    "      > wrong_add_function([1,2,3],[1,1,1])\n",
    "      > [6,9,12]\n",
    "\n",
    "   whereas the expected correct answer is, [2,3,4]\n",
    "\n",
    "   Parameters\n",
    "   ----------\n",
    "   arg1 : list\n",
    "      list of integers.\n",
    "   arg2 : list\n",
    "      list of integers.\n",
    "\n",
    "   Returns\n",
    "   -------\n",
    "   arg1 : list\n",
    "      Elements of arg1, with each element having had the contents of \n",
    "      arg2 added to it.\n",
    "\n",
    "   '''\n",
    "   arg1_index=0\n",
    "   while arg1_index < len(arg1):\n",
    "      arg_2_sum = 0\n",
    "      for arg2_elements in arg2:\n",
    "         arg_2_sum = sum([arg1[arg1_index]+i for i in arg2])\n",
    "      arg1[arg1_index]=arg_2_sum  \n",
    "      arg1_index+=1\n",
    "   return arg1\n",
    "\n",
    "arg1 = [1,2,3]\n",
    "arg2 = [1,1,1]\n",
    "\n",
    "wrong_add_function(arg1, arg2)"
   ]
  },
  {
   "cell_type": "code",
   "execution_count": 4,
   "id": "0c56e0b0-f79d-4e5a-840f-695b2a6f091c",
   "metadata": {},
   "outputs": [
    {
     "name": "stdout",
     "output_type": "stream",
     "text": [
      "We are making an error in the loop.\n",
      "The correct answer for arg1 element 1 is supposed to be: 2\n",
      "We are making an error in the loop.\n",
      "The correct answer for arg1 element 2 is supposed to be: 3\n",
      "We are making an error in the loop.\n",
      "The correct answer for arg1 element 3 is supposed to be: 4\n",
      "[1, 2, 3]\n"
     ]
    }
   ],
   "source": [
    "def wrong_add_function(arg1, arg2):\n",
    "    arg1_index = 0\n",
    "    while arg1_index < len(arg1):\n",
    "        arg_2_sum = sum([arg1[arg1_index] + i for i in arg2])\n",
    "        print(\"We are making an error in the loop.\")\n",
    "        expected = arg1[arg1_index] + arg2[arg1_index]\n",
    "        print(f\"The correct answer for arg1 element {arg1_index + 1} is supposed to be: {expected}\")\n",
    "        arg1_index += 1\n",
    "    return arg1\n",
    "\n",
    "arg1 = [1,2,3]\n",
    "arg2 = [1,1,1]\n",
    "print(wrong_add_function(arg1, arg2))"
   ]
  }
 ],
 "metadata": {
  "kernelspec": {
   "display_name": "Python 3 (ipykernel)",
   "language": "python",
   "name": "python3"
  },
  "language_info": {
   "codemirror_mode": {
    "name": "ipython",
    "version": 3
   },
   "file_extension": ".py",
   "mimetype": "text/x-python",
   "name": "python",
   "nbconvert_exporter": "python",
   "pygments_lexer": "ipython3",
   "version": "3.11.5"
  }
 },
 "nbformat": 4,
 "nbformat_minor": 5
}
