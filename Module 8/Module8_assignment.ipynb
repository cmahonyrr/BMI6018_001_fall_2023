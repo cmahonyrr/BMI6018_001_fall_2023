{
 "cells": [
  {
   "cell_type": "markdown",
   "id": "11c2e7fd-fda7-409e-8d9d-b1fcf9766fb0",
   "metadata": {},
   "source": [
    "## Question 1. \n",
    "Import numpy as np and print the version number. (5 Points)"
   ]
  },
  {
   "cell_type": "code",
   "execution_count": 7,
   "id": "1b745eaf-dbaa-44aa-abc8-a72f9b8f2355",
   "metadata": {},
   "outputs": [
    {
     "data": {
      "text/plain": [
       "'1.26.0'"
      ]
     },
     "execution_count": 7,
     "metadata": {},
     "output_type": "execute_result"
    }
   ],
   "source": [
    "import numpy as np\n",
    "\n",
    "numpy_version = np.__version__\n",
    "\n",
    "numpy_version"
   ]
  },
  {
   "cell_type": "markdown",
   "id": "e056ac53-b311-48bc-b6fc-ed501fa5a9a7",
   "metadata": {},
   "source": [
    "## Question 2. \n",
    "Create a 1D array of numbers from 0 to 9 (10 Points). Desired output:\n",
    "> array([0, 1, 2, 3, 4, 5, 6, 7, 8, 9])"
   ]
  },
  {
   "cell_type": "code",
   "execution_count": 8,
   "id": "4b9dc2e5-7ca7-4944-8333-9c47b5432344",
   "metadata": {},
   "outputs": [
    {
     "data": {
      "text/plain": [
       "array([0, 1, 2, 3, 4, 5, 6, 7, 8, 9])"
      ]
     },
     "execution_count": 8,
     "metadata": {},
     "output_type": "execute_result"
    }
   ],
   "source": [
    "array_tmp = np.arange(10)\n",
    "\n",
    "array_tmp"
   ]
  },
  {
   "cell_type": "markdown",
   "id": "1bee3c2d-acae-4386-be96-0f880aea91b7",
   "metadata": {},
   "source": [
    "## Question 3. \n",
    "Import a dataset with numbers and texts keeping the text intact in python numpy. Use the iris dataset available from https://archive.ics.uci.edu/ml/machine-learning-databases/iris/iris.dataLinks to an external site. (20 Points)"
   ]
  },
  {
   "cell_type": "code",
   "execution_count": 21,
   "id": "eb6b7a43-2361-4512-a621-b815385c93fb",
   "metadata": {},
   "outputs": [
    {
     "data": {
      "text/plain": [
       "array([(5.1, 3.5, 1.4, 0.2, 'Iris-setosa'),\n",
       "       (4.9, 3. , 1.4, 0.2, 'Iris-setosa'),\n",
       "       (4.7, 3.2, 1.3, 0.2, 'Iris-setosa'),\n",
       "       (4.6, 3.1, 1.5, 0.2, 'Iris-setosa'),\n",
       "       (5. , 3.6, 1.4, 0.2, 'Iris-setosa')],\n",
       "      dtype=[('f0', '<f8'), ('f1', '<f8'), ('f2', '<f8'), ('f3', '<f8'), ('f4', '<U15')])"
      ]
     },
     "execution_count": 21,
     "metadata": {},
     "output_type": "execute_result"
    }
   ],
   "source": [
    "data = np.genfromtxt('C:\\\\Users\\\\USUARIO\\\\Desktop\\\\python_pr\\\\Module 8\\\\iris.data.txt', delimiter=',', dtype=None, encoding='utf-8')\n",
    "data[:5]  # Displaying the first 5 rows of the dataset for verification"
   ]
  },
  {
   "cell_type": "markdown",
   "id": "06078bd9-60cc-4c52-bc53-74d213a63782",
   "metadata": {},
   "source": [
    "## Question 4. \n",
    "Find the position of the first occurrence of a value greater than 1.0 in petalwidth 4th column of iris dataset. Use the iris dataset available from https://archive.ics.uci.edu/ml/machine-learning-databases/iris/iris.dataLinks to an external site. (20 Points)"
   ]
  },
  {
   "cell_type": "code",
   "execution_count": 22,
   "id": "79312342-6ee7-40c4-9bc3-9471cf0622b3",
   "metadata": {},
   "outputs": [
    {
     "data": {
      "text/plain": [
       "50"
      ]
     },
     "execution_count": 22,
     "metadata": {},
     "output_type": "execute_result"
    }
   ],
   "source": [
    "petal_width = data['f3']\n",
    "position = np.where(petal_width > 1.0)[0][0]\n",
    "position"
   ]
  },
  {
   "cell_type": "markdown",
   "id": "79311760-c119-4a3b-b19e-8b8d93884b49",
   "metadata": {},
   "source": [
    "## Question 5. \n",
    "From the array a, replace all values greater than 30 to 30 and less than 10 to 10.\n",
    "\n",
    "Input:\n",
    "> np.random.seed(100)\n",
    "a = np.random.uniform(1,50, 20)"
   ]
  },
  {
   "cell_type": "code",
   "execution_count": 23,
   "id": "1b4d9195-ce7a-4467-bc8d-7efde75a0109",
   "metadata": {},
   "outputs": [
    {
     "data": {
      "text/plain": [
       "array([27.62684215, 14.64009987, 21.80136195, 30.        , 10.        ,\n",
       "       10.        , 30.        , 30.        , 10.        , 29.17957314,\n",
       "       30.        , 11.25090398, 10.08108276, 10.        , 11.76517714,\n",
       "       30.        , 30.        , 10.        , 30.        , 14.42961361])"
      ]
     },
     "execution_count": 23,
     "metadata": {},
     "output_type": "execute_result"
    }
   ],
   "source": [
    "# 5. Replacing values in the array a\n",
    "np.random.seed(100)\n",
    "a = np.random.uniform(1,50, 20)\n",
    "\n",
    "# Replacing values\n",
    "a[a > 30] = 30\n",
    "a[a < 10] = 10\n",
    "a"
   ]
  }
 ],
 "metadata": {
  "kernelspec": {
   "display_name": "Python 3 (ipykernel)",
   "language": "python",
   "name": "python3"
  },
  "language_info": {
   "codemirror_mode": {
    "name": "ipython",
    "version": 3
   },
   "file_extension": ".py",
   "mimetype": "text/x-python",
   "name": "python",
   "nbconvert_exporter": "python",
   "pygments_lexer": "ipython3",
   "version": "3.11.5"
  }
 },
 "nbformat": 4,
 "nbformat_minor": 5
}
